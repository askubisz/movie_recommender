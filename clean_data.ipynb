{
 "cells": [
  {
   "cell_type": "code",
   "execution_count": 21,
   "metadata": {},
   "outputs": [],
   "source": [
    "import pandas as pd\n",
    "from sklearn.feature_extraction.text import TfidfVectorizer\n",
    "from sklearn.metrics.pairwise import cosine_similarity\n",
    "from sklearn.preprocessing import MinMaxScaler\n",
    "import ast"
   ]
  },
  {
   "cell_type": "markdown",
   "metadata": {},
   "source": [
    "### Load dataset"
   ]
  },
  {
   "cell_type": "code",
   "execution_count": 137,
   "metadata": {},
   "outputs": [
    {
     "name": "stderr",
     "output_type": "stream",
     "text": [
      "C:\\Users\\askub\\AppData\\Local\\Temp\\ipykernel_28416\\2637576460.py:1: DtypeWarning: Columns (10) have mixed types. Specify dtype option on import or set low_memory=False.\n",
      "  movies_df=pd.read_csv('movies_metadata.csv')\n"
     ]
    }
   ],
   "source": [
    "movies_df=pd.read_csv('movies_metadata.csv')\n",
    "actors_df=pd.read_csv('credits.csv')"
   ]
  },
  {
   "cell_type": "markdown",
   "metadata": {},
   "source": [
    "Select columns that seem instersting"
   ]
  },
  {
   "cell_type": "code",
   "execution_count": 160,
   "metadata": {},
   "outputs": [
    {
     "data": {
      "text/plain": [
       "Index(['adult', 'belongs_to_collection', 'budget', 'genres', 'homepage', 'id',\n",
       "       'imdb_id', 'original_language', 'original_title', 'overview',\n",
       "       'popularity', 'poster_path', 'production_companies',\n",
       "       'production_countries', 'release_date', 'revenue', 'runtime',\n",
       "       'spoken_languages', 'status', 'tagline', 'title', 'video',\n",
       "       'vote_average', 'vote_count'],\n",
       "      dtype='object')"
      ]
     },
     "execution_count": 160,
     "metadata": {},
     "output_type": "execute_result"
    }
   ],
   "source": [
    "movies_df.columns"
   ]
  },
  {
   "cell_type": "code",
   "execution_count": 138,
   "metadata": {},
   "outputs": [],
   "source": [
    "movies_df=movies_df[['genres', 'id', 'imdb_id', 'title', 'overview', 'release_date']]"
   ]
  },
  {
   "cell_type": "markdown",
   "metadata": {},
   "source": [
    "Drop null rows"
   ]
  },
  {
   "cell_type": "code",
   "execution_count": 139,
   "metadata": {},
   "outputs": [],
   "source": [
    "movies_df.dropna(subset=['title', 'overview', 'release_date', 'imdb_id'], inplace=True)"
   ]
  },
  {
   "cell_type": "code",
   "execution_count": 140,
   "metadata": {},
   "outputs": [],
   "source": [
    "def get_genre(input_list):\n",
    "    input_list=ast.literal_eval(input_list)\n",
    "    if input_list is []:\n",
    "        return []\n",
    "    else:\n",
    "        genres=[]\n",
    "        for genre in input_list:\n",
    "            genres.append(genre['name'].replace(\" \", \"\"))\n",
    "        return genres\n",
    "movies_df['genres']=movies_df.apply(lambda row: get_genre(row['genres']), axis=1)"
   ]
  },
  {
   "cell_type": "code",
   "execution_count": 141,
   "metadata": {},
   "outputs": [],
   "source": [
    "# Add column with actual IMDB URL\n",
    "movies_df['imdb_link']=movies_df.apply(lambda row: 'https://www.imdb.com/title/'+row['imdb_id'], axis=1)"
   ]
  },
  {
   "cell_type": "code",
   "execution_count": 142,
   "metadata": {},
   "outputs": [],
   "source": [
    "movies_df['decade']=movies_df.apply(lambda row: int(row['release_date'].split('-')[0])-int(row['release_date'].split('-')[0])%10, axis=1)"
   ]
  },
  {
   "cell_type": "code",
   "execution_count": 143,
   "metadata": {},
   "outputs": [],
   "source": [
    "movies_df['id']=movies_df['id'].astype('int')\n",
    "movies_df=pd.merge(movies_df, actors_df[['cast', 'crew', 'id']], on='id', how='left')"
   ]
  },
  {
   "cell_type": "code",
   "execution_count": 144,
   "metadata": {},
   "outputs": [],
   "source": [
    "movies_df.dropna(subset=['cast', 'crew'], inplace=True)"
   ]
  },
  {
   "cell_type": "code",
   "execution_count": 145,
   "metadata": {},
   "outputs": [],
   "source": [
    "def get_actors(input_list):\n",
    "    input_list=ast.literal_eval(input_list)\n",
    "    if input_list is []:\n",
    "        return []\n",
    "    else:\n",
    "        actors=[]\n",
    "        for i in range(len(input_list)):\n",
    "            actors.append(input_list[i]['name'].replace(\" \", \"\"))\n",
    "            if i==2:\n",
    "                break\n",
    "        return actors\n",
    "movies_df['actors']=movies_df.apply(lambda row: get_actors(row['cast']), axis=1)"
   ]
  },
  {
   "cell_type": "code",
   "execution_count": 146,
   "metadata": {},
   "outputs": [],
   "source": [
    "def get_director(input_list):\n",
    "    input_list=ast.literal_eval(input_list)\n",
    "    if input_list is []:\n",
    "        return []\n",
    "    else:\n",
    "        director=[]\n",
    "        for i in range(len(input_list)):\n",
    "            if input_list[i]['job']=='Director':\n",
    "                director=input_list[i]['name'].replace(\" \", \"\")\n",
    "                break\n",
    "        return director\n",
    "movies_df['director']=movies_df.apply(lambda row: get_director(row['crew']), axis=1)"
   ]
  },
  {
   "cell_type": "code",
   "execution_count": 147,
   "metadata": {},
   "outputs": [
    {
     "data": {
      "text/html": [
       "<div>\n",
       "<style scoped>\n",
       "    .dataframe tbody tr th:only-of-type {\n",
       "        vertical-align: middle;\n",
       "    }\n",
       "\n",
       "    .dataframe tbody tr th {\n",
       "        vertical-align: top;\n",
       "    }\n",
       "\n",
       "    .dataframe thead th {\n",
       "        text-align: right;\n",
       "    }\n",
       "</style>\n",
       "<table border=\"1\" class=\"dataframe\">\n",
       "  <thead>\n",
       "    <tr style=\"text-align: right;\">\n",
       "      <th></th>\n",
       "      <th>genres</th>\n",
       "      <th>id</th>\n",
       "      <th>title</th>\n",
       "      <th>overview</th>\n",
       "      <th>release_date</th>\n",
       "      <th>imdb_link</th>\n",
       "      <th>decade</th>\n",
       "      <th>actors</th>\n",
       "      <th>director</th>\n",
       "    </tr>\n",
       "  </thead>\n",
       "  <tbody>\n",
       "    <tr>\n",
       "      <th>0</th>\n",
       "      <td>[Animation, Comedy, Family]</td>\n",
       "      <td>862</td>\n",
       "      <td>Toy Story</td>\n",
       "      <td>Led by Woody, Andy's toys live happily in his ...</td>\n",
       "      <td>1995-10-30</td>\n",
       "      <td>https://www.imdb.com/title/tt0114709</td>\n",
       "      <td>1990</td>\n",
       "      <td>[TomHanks, TimAllen, DonRickles]</td>\n",
       "      <td>JohnLasseter</td>\n",
       "    </tr>\n",
       "    <tr>\n",
       "      <th>1</th>\n",
       "      <td>[Adventure, Fantasy, Family]</td>\n",
       "      <td>8844</td>\n",
       "      <td>Jumanji</td>\n",
       "      <td>When siblings Judy and Peter discover an encha...</td>\n",
       "      <td>1995-12-15</td>\n",
       "      <td>https://www.imdb.com/title/tt0113497</td>\n",
       "      <td>1990</td>\n",
       "      <td>[RobinWilliams, JonathanHyde, KirstenDunst]</td>\n",
       "      <td>JoeJohnston</td>\n",
       "    </tr>\n",
       "    <tr>\n",
       "      <th>2</th>\n",
       "      <td>[Romance, Comedy]</td>\n",
       "      <td>15602</td>\n",
       "      <td>Grumpier Old Men</td>\n",
       "      <td>A family wedding reignites the ancient feud be...</td>\n",
       "      <td>1995-12-22</td>\n",
       "      <td>https://www.imdb.com/title/tt0113228</td>\n",
       "      <td>1990</td>\n",
       "      <td>[WalterMatthau, JackLemmon, Ann-Margret]</td>\n",
       "      <td>HowardDeutch</td>\n",
       "    </tr>\n",
       "    <tr>\n",
       "      <th>3</th>\n",
       "      <td>[Comedy, Drama, Romance]</td>\n",
       "      <td>31357</td>\n",
       "      <td>Waiting to Exhale</td>\n",
       "      <td>Cheated on, mistreated and stepped on, the wom...</td>\n",
       "      <td>1995-12-22</td>\n",
       "      <td>https://www.imdb.com/title/tt0114885</td>\n",
       "      <td>1990</td>\n",
       "      <td>[WhitneyHouston, AngelaBassett, LorettaDevine]</td>\n",
       "      <td>ForestWhitaker</td>\n",
       "    </tr>\n",
       "    <tr>\n",
       "      <th>4</th>\n",
       "      <td>[Comedy]</td>\n",
       "      <td>11862</td>\n",
       "      <td>Father of the Bride Part II</td>\n",
       "      <td>Just when George Banks has recovered from his ...</td>\n",
       "      <td>1995-02-10</td>\n",
       "      <td>https://www.imdb.com/title/tt0113041</td>\n",
       "      <td>1990</td>\n",
       "      <td>[SteveMartin, DianeKeaton, MartinShort]</td>\n",
       "      <td>CharlesShyer</td>\n",
       "    </tr>\n",
       "  </tbody>\n",
       "</table>\n",
       "</div>"
      ],
      "text/plain": [
       "                         genres     id                        title  \\\n",
       "0   [Animation, Comedy, Family]    862                    Toy Story   \n",
       "1  [Adventure, Fantasy, Family]   8844                      Jumanji   \n",
       "2             [Romance, Comedy]  15602             Grumpier Old Men   \n",
       "3      [Comedy, Drama, Romance]  31357            Waiting to Exhale   \n",
       "4                      [Comedy]  11862  Father of the Bride Part II   \n",
       "\n",
       "                                            overview release_date  \\\n",
       "0  Led by Woody, Andy's toys live happily in his ...   1995-10-30   \n",
       "1  When siblings Judy and Peter discover an encha...   1995-12-15   \n",
       "2  A family wedding reignites the ancient feud be...   1995-12-22   \n",
       "3  Cheated on, mistreated and stepped on, the wom...   1995-12-22   \n",
       "4  Just when George Banks has recovered from his ...   1995-02-10   \n",
       "\n",
       "                              imdb_link  decade  \\\n",
       "0  https://www.imdb.com/title/tt0114709    1990   \n",
       "1  https://www.imdb.com/title/tt0113497    1990   \n",
       "2  https://www.imdb.com/title/tt0113228    1990   \n",
       "3  https://www.imdb.com/title/tt0114885    1990   \n",
       "4  https://www.imdb.com/title/tt0113041    1990   \n",
       "\n",
       "                                           actors        director  \n",
       "0                [TomHanks, TimAllen, DonRickles]    JohnLasseter  \n",
       "1     [RobinWilliams, JonathanHyde, KirstenDunst]     JoeJohnston  \n",
       "2        [WalterMatthau, JackLemmon, Ann-Margret]    HowardDeutch  \n",
       "3  [WhitneyHouston, AngelaBassett, LorettaDevine]  ForestWhitaker  \n",
       "4         [SteveMartin, DianeKeaton, MartinShort]    CharlesShyer  "
      ]
     },
     "execution_count": 147,
     "metadata": {},
     "output_type": "execute_result"
    }
   ],
   "source": [
    "movies_df.drop(columns=['cast', 'crew', 'imdb_id'], inplace=True)\n",
    "movies_df.head(5)"
   ]
  },
  {
   "cell_type": "markdown",
   "metadata": {},
   "source": [
    "### NLP of overview column"
   ]
  },
  {
   "cell_type": "code",
   "execution_count": 148,
   "metadata": {},
   "outputs": [],
   "source": [
    "import unidecode\n",
    "from langdetect import detect\n",
    "import contractions\n",
    "import spacy\n",
    "import re\n",
    "from nltk.stem.snowball import SnowballStemmer\n",
    "\n",
    "def preprocess_overview(text, nlp, stemmer):\n",
    "    if text==[]  or len(text)<=10 or detect(text)!='en':\n",
    "        return 0\n",
    "    else:\n",
    "        # Remove accented characters\n",
    "        text=unidecode.unidecode(text)\n",
    "        # Set to lowercase\n",
    "        text=text.lower()\n",
    "        #\n",
    "        text=re.sub(r'[^\\w]|[\\d]', ' ', text)\n",
    "        doc=nlp(text)\n",
    "        clean_text=[]\n",
    "        for token in doc:\n",
    "            if token.text not in {''} and token.is_stop==False and token.pos_=='NOUN' and len(token.text)>3: #and token.text.isnumeric()==False and token.lemma_.isnumeric()==False:\n",
    "                if token.lemma_=='-PRON-':\n",
    "                    clean_text.append(token.text)\n",
    "                else:\n",
    "                    clean_text.append(stemmer.stem(token.text))\n",
    "        clean_text=list(set(clean_text))\n",
    "        if clean_text==[]:\n",
    "            return 0\n",
    "        else:\n",
    "            return clean_text"
   ]
  },
  {
   "cell_type": "code",
   "execution_count": 149,
   "metadata": {},
   "outputs": [],
   "source": [
    "nlp=spacy.load(\"en_core_web_sm\")\n",
    "stemmer=SnowballStemmer(language='english')\n",
    "movies_df['overview_processed']=movies_df.apply(lambda row: preprocess_overview(row['overview'], nlp, stemmer), axis=1)"
   ]
  },
  {
   "cell_type": "code",
   "execution_count": 150,
   "metadata": {},
   "outputs": [],
   "source": [
    "movies_df=movies_df[movies_df.overview_processed!=0]"
   ]
  },
  {
   "cell_type": "code",
   "execution_count": 151,
   "metadata": {},
   "outputs": [],
   "source": [
    "def tf_idf_transf(df, column_name, max_df, min_df):\n",
    "    tfidf=TfidfVectorizer(max_df=max_df, min_df=min_df)\n",
    "    tfidf_matrix=tfidf.fit_transform(df[column_name].apply(lambda x: \" \".join(x)))\n",
    "    return tfidf_matrix\n",
    "keywords_processed=tf_idf_transf(movies_df, 'overview_processed', 0.1, 5)"
   ]
  },
  {
   "cell_type": "code",
   "execution_count": 162,
   "metadata": {},
   "outputs": [
    {
     "name": "stdout",
     "output_type": "stream",
     "text": [
      "['action' 'adventure' 'animation' 'comedy' 'crime' 'documentary' 'drama'\n",
      " 'family' 'fantasy' 'foreign' 'history' 'horror' 'music' 'mystery'\n",
      " 'romance' 'sciencefiction' 'thriller' 'tvmovie' 'war' 'western']\n",
      "['50cent' 'aakekalliala' 'aamirkhan' ... '松田龙平' '松隆子' '莫玛']\n",
      "['aaronkatz' 'aaronnorris' 'aaronwoodley' ... 'óscaraibar' 'özcandeniz'\n",
      " 'šarūnasbartas']\n",
      "['1870' '1880' '1890' '1900' '1910' '1920' '1930' '1940' '1950' '1960'\n",
      " '1970' '1980' '1990' '2000' '2010']\n"
     ]
    }
   ],
   "source": [
    "from sklearn.feature_extraction.text import CountVectorizer\n",
    "def ohe_transf(df, column_name, min_df):\n",
    "    ohe=CountVectorizer(min_df=min_df, binary=True)\n",
    "    ohe_matrix=ohe.fit_transform(df[column_name].apply(lambda x: str(x)))\n",
    "    print(ohe.get_feature_names_out())\n",
    "    return ohe_matrix\n",
    "genres_processed=ohe_transf(movies_df, 'genres', 1)\n",
    "actors_processed=ohe_transf(movies_df, 'actors', 3)\n",
    "director_processed=ohe_transf(movies_df, 'director', 3)\n",
    "decade_processed=ohe_transf(movies_df, 'decade', 1)"
   ]
  },
  {
   "cell_type": "code",
   "execution_count": 163,
   "metadata": {},
   "outputs": [],
   "source": [
    "from scipy import sparse\n",
    "final_df=sparse.hstack((actors_processed, decade_processed, director_processed, genres_processed, keywords_processed))"
   ]
  },
  {
   "cell_type": "code",
   "execution_count": 178,
   "metadata": {},
   "outputs": [],
   "source": [
    "sparse.save_npz(\"final_df.npz\", final_df)"
   ]
  }
 ],
 "metadata": {
  "kernelspec": {
   "display_name": "Python 3",
   "language": "python",
   "name": "python3"
  },
  "language_info": {
   "codemirror_mode": {
    "name": "ipython",
    "version": 3
   },
   "file_extension": ".py",
   "mimetype": "text/x-python",
   "name": "python",
   "nbconvert_exporter": "python",
   "pygments_lexer": "ipython3",
   "version": "3.11.6"
  }
 },
 "nbformat": 4,
 "nbformat_minor": 2
}
